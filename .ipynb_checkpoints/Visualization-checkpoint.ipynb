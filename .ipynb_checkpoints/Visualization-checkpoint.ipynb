{
 "cells": [
  {
   "cell_type": "code",
   "execution_count": 1,
   "metadata": {},
   "outputs": [],
   "source": [
    "import matplotlib.pyplot as plt\n",
    "plt.rcParams[\"figure.figsize\"] = (8, 6)"
   ]
  },
  {
   "cell_type": "code",
   "execution_count": 2,
   "metadata": {},
   "outputs": [
    {
     "data": {
      "image/png": "[encoded data removed]",
      "text/plain": [
       "<Figure size 432x288 with 1 Axes>"
      ]
     },
     "metadata": {
      "needs_background": "light"
     },
     "output_type": "display_data"
    }
   ],
   "source": [
    "with open('input.txt','r') as f:\n",
    "    f_con=f.read()\n",
    "    cors=f_con.split('\\n')\n",
    "    n = int(cors[0])\n",
    " \n",
    "for i in range(1,n+1):\n",
    "    temp=cors[i].split()\n",
    "    x1=int(temp[0])\n",
    "    x2=int(temp[1])\n",
    "    y1=int(temp[2])\n",
    "    y2=int(temp[3])\n",
    "    X=[x1,x1]\n",
    "    Y=[y1,y2]\n",
    "    plt.plot(X,Y,color='black')\n",
    "    X=[x1,x2]\n",
    "    Y=[y1,y1]\n",
    "    plt.plot(X,Y,color='black')\n",
    "    X=[x1,x2]\n",
    "    Y=[y2,y2]\n",
    "    plt.plot(X,Y,color='black')\n",
    "    X=[x2,x2]\n",
    "    Y=[y1,y2]\n",
    "    plt.plot(X,Y,color='black')\n",
    "with open('meas.txt','r') as f:\n",
    "    meas = f.read();\n",
    "    plt.title('Measure = ' + meas)\n",
    "    \n",
    "with open('out.txt','r') as f:\n",
    "    f_con = f.read();\n",
    "    div = f_con.split(':')\n",
    "    hor = div[0].split('\\n')\n",
    "    ver = div[1].split('\\n')\n",
    "    \n",
    "for i in range(0,len(hor)-1):\n",
    "    temp = hor[i].split(',')\n",
    "    x1 = int(temp[0])\n",
    "    x2 = int(temp[1])\n",
    "    y = int(temp[2])\n",
    "    X = [x1,x2]\n",
    "    Y =[y,y]\n",
    "    plt.plot(X,Y,color='red')\n",
    "for i in range(0,len(ver)-1):\n",
    "    temp = ver[i].split(',')\n",
    "    y1 = int(temp[0])\n",
    "    y2 = int(temp[1])\n",
    "    x = int(temp[2])\n",
    "    X = [x,x]\n",
    "    Y =[y1,y2]\n",
    "    plt.plot(X,Y,color='red')\n",
    "plt.show()"
   ]
  },
  {
   "cell_type": "code",
   "execution_count": null,
   "metadata": {},
   "outputs": [],
   "source": [
    "\n",
    "    "
   ]
  },
  {
   "cell_type": "code",
   "execution_count": null,
   "metadata": {},
   "outputs": [],
   "source": []
  }
 ],
 "metadata": {
  "kernelspec": {
   "display_name": "Python 3",
   "language": "python",
   "name": "python3"
  },
  "language_info": {
   "codemirror_mode": {
    "name": "ipython",
    "version": 3
   },
   "file_extension": ".py",
   "mimetype": "text/x-python",
   "name": "python",
   "nbconvert_exporter": "python",
   "pygments_lexer": "ipython3",
   "version": "3.7.4"
  }
 },
 "nbformat": 4,
 "nbformat_minor": 2
}
